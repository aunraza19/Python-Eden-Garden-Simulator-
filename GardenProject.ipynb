{
 "cells": [
  {
   "cell_type": "code",
   "execution_count": 5,
   "id": "059a2dcf-b090-40df-8f4d-ba3e43a87729",
   "metadata": {},
   "outputs": [],
   "source": [
    "class Plant:\n",
    "    def __init__(self,name,harvest_yield):\n",
    "        self.name=name\n",
    "        self.harvest_yield=harvest_yield\n",
    "        self.growth_stages=[\"seed\",\"sprout\",\"mature\",\"flower\",\"fruit\",\"hravest ready\"]\n",
    "        self.current_stage=self.growth_stages[0]\n",
    "        self.harvestable=False\n",
    "\n",
    "    def grow(self):\n",
    "        current_index=self.growth_stages.index(self.current_stage)\n",
    "\n",
    "        if current_index < len(self.growth_stages)-1:\n",
    "            self.current_stage=self.growth_stages[current_index+1]\n",
    "            if self.current_stage== self.growth_stages[-1]:\n",
    "                self.harvestable= True\n",
    "        elif self.current_stage==self.growth_stages[-1]:\n",
    "            print(f\"{self.name} is already grown\")\n",
    "\n",
    "    def harvest(self):\n",
    "        if self.harvestable:\n",
    "            self.harvestable = False\n",
    "            return self.harvest_yield\n",
    "        else:\n",
    "            print(f\"Your {self.name} is not haravestable\")\n",
    "            \n",
    "            "
   ]
  },
  {
   "cell_type": "code",
   "execution_count": 24,
   "id": "f964e2cf-c468-4043-9f51-6d9af0b749cb",
   "metadata": {},
   "outputs": [],
   "source": [
    "tomoto= Plant(\"tomoto\",10)"
   ]
  },
  {
   "cell_type": "code",
   "execution_count": 25,
   "id": "8cd6cc58-00d8-44d4-b38e-786722a9b0f5",
   "metadata": {},
   "outputs": [
    {
     "data": {
      "text/plain": [
       "['seed', 'sprout', 'mature', 'flower', 'fruit', 'hravest ready']"
      ]
     },
     "execution_count": 25,
     "metadata": {},
     "output_type": "execute_result"
    }
   ],
   "source": [
    "tomoto.growth_stages"
   ]
  },
  {
   "cell_type": "code",
   "execution_count": 26,
   "id": "cfb9bd0a-63fc-44c1-bfb6-f89b0e881f2b",
   "metadata": {},
   "outputs": [
    {
     "data": {
      "text/plain": [
       "'seed'"
      ]
     },
     "execution_count": 26,
     "metadata": {},
     "output_type": "execute_result"
    }
   ],
   "source": [
    "tomoto.current_stage"
   ]
  },
  {
   "cell_type": "code",
   "execution_count": 27,
   "id": "7826d124-b393-4753-a3b3-6381d666d070",
   "metadata": {},
   "outputs": [
    {
     "data": {
      "text/plain": [
       "False"
      ]
     },
     "execution_count": 27,
     "metadata": {},
     "output_type": "execute_result"
    }
   ],
   "source": [
    "tomoto.harvestable"
   ]
  },
  {
   "cell_type": "code",
   "execution_count": 28,
   "id": "383d124a-ed36-4357-a5b4-2000ec62ea7d",
   "metadata": {},
   "outputs": [],
   "source": [
    "tomoto.grow()"
   ]
  },
  {
   "cell_type": "code",
   "execution_count": 29,
   "id": "fb0d2213-43b7-445c-9f25-07a103c7b9eb",
   "metadata": {},
   "outputs": [
    {
     "data": {
      "text/plain": [
       "'sprout'"
      ]
     },
     "execution_count": 29,
     "metadata": {},
     "output_type": "execute_result"
    }
   ],
   "source": [
    "tomoto.current_stage"
   ]
  },
  {
   "cell_type": "code",
   "execution_count": 30,
   "id": "cddaee8d-a837-40be-a326-8a3b24ec0f0f",
   "metadata": {},
   "outputs": [],
   "source": [
    "tomoto.grow()"
   ]
  },
  {
   "cell_type": "code",
   "execution_count": 31,
   "id": "9182a7d0-e427-42cd-ae59-300c6889609f",
   "metadata": {},
   "outputs": [
    {
     "data": {
      "text/plain": [
       "'mature'"
      ]
     },
     "execution_count": 31,
     "metadata": {},
     "output_type": "execute_result"
    }
   ],
   "source": [
    "tomoto.current_stage\n"
   ]
  },
  {
   "cell_type": "code",
   "execution_count": 32,
   "id": "ab7b4cf6-f568-4ff5-90be-41e3c8a1688f",
   "metadata": {},
   "outputs": [],
   "source": [
    "tomoto.grow()\n"
   ]
  },
  {
   "cell_type": "code",
   "execution_count": 33,
   "id": "582f83dd-fd37-4ec5-8416-35980551db6e",
   "metadata": {},
   "outputs": [
    {
     "data": {
      "text/plain": [
       "'flower'"
      ]
     },
     "execution_count": 33,
     "metadata": {},
     "output_type": "execute_result"
    }
   ],
   "source": [
    "tomoto.current_stage\n",
    "\n"
   ]
  },
  {
   "cell_type": "code",
   "execution_count": 34,
   "id": "45899003-87e5-408a-957f-bb015776130d",
   "metadata": {},
   "outputs": [
    {
     "data": {
      "text/plain": [
       "'fruit'"
      ]
     },
     "execution_count": 34,
     "metadata": {},
     "output_type": "execute_result"
    }
   ],
   "source": [
    "tomoto.grow()\n",
    "tomoto.current_stage"
   ]
  },
  {
   "cell_type": "code",
   "execution_count": 35,
   "id": "17cb195c-3da4-4f34-88e8-dd95dfe6e1e8",
   "metadata": {},
   "outputs": [
    {
     "data": {
      "text/plain": [
       "'hravest ready'"
      ]
     },
     "execution_count": 35,
     "metadata": {},
     "output_type": "execute_result"
    }
   ],
   "source": [
    "tomoto.grow()\n",
    "tomoto.current_stage\n"
   ]
  },
  {
   "cell_type": "code",
   "execution_count": 36,
   "id": "700b1014-f822-4e15-9354-ca121537596e",
   "metadata": {},
   "outputs": [
    {
     "name": "stdout",
     "output_type": "stream",
     "text": [
      "tomoto is already grown\n"
     ]
    },
    {
     "data": {
      "text/plain": [
       "'hravest ready'"
      ]
     },
     "execution_count": 36,
     "metadata": {},
     "output_type": "execute_result"
    }
   ],
   "source": [
    "tomoto.grow()\n",
    "tomoto.current_stage"
   ]
  },
  {
   "cell_type": "code",
   "execution_count": 37,
   "id": "4bbbfb38-8140-4f5b-a820-7e62f31699b1",
   "metadata": {},
   "outputs": [],
   "source": [
    "class Tomato(Plant):\n",
    "    def __init__(self):\n",
    "        super().__init__(\"tomato\",10)\n",
    "\n",
    "class Potato(Plant):\n",
    "    def __init__(self):\n",
    "        super().__init__(\"potato\",5)\n",
    "        self.growth_stages=[\"seed\",\"sprout\",\"mature\",\"hravest ready\"]\n",
    "\n",
    "class Carrot(Plant):\n",
    "    def __init__(self):\n",
    "         super().__init__(\"potato\",5)\n",
    "         self.growth_stages=[\"seed\",\"sprout\",\"mature\",\"hravest ready\"]\n"
   ]
  },
  {
   "cell_type": "code",
   "execution_count": 38,
   "id": "04dec007-7e83-48b0-add7-74102721dc83",
   "metadata": {},
   "outputs": [],
   "source": [
    "import random"
   ]
  },
  {
   "cell_type": "code",
   "execution_count": 39,
   "id": "a0d830c8-daef-44dc-944c-cc20c1b41e9a",
   "metadata": {},
   "outputs": [],
   "source": [
    "def select_seed(items): # here items will replace with an inventory dictionary\n",
    "    item_list = list(items.keys())\n",
    "    \n",
    "    for i in range(len(item_list)):\n",
    "        item_name = item_list[i]\n",
    "        print(f\"{i+1}. {item_name}\")\n",
    "    print()   \n",
    "    while True:\n",
    "        user_input = input(\"Select an item \")\n",
    "        try:\n",
    "            user_input = int(user_input)\n",
    "            if 0 <user_input <= len(item_list):\n",
    "                return item_list[user_input -1]\n",
    "            else:\n",
    "                print(\"Invalid Input\")\n",
    "        except:\n",
    "            print(\"Invalid Input\")"
   ]
  },
  {
   "cell_type": "code",
   "execution_count": 40,
   "id": "b0d82674-2806-439c-9ae6-98126ce05637",
   "metadata": {},
   "outputs": [],
   "source": [
    "class Gardener:\n",
    "    \"\"\"Represent a gardner who can plant and harvest plants.\"\"\"\n",
    "    \n",
    "    plant_dict = {\"tomato\":Tomato, \"potato\": Potato, \"carrot\": Carrot}\n",
    "    \n",
    "    def __init__(self, name):\n",
    "        self.name = name\n",
    "        self.inventory = {} # seed name and quantity\n",
    "        self.planted_plants = []\n",
    "        \n",
    "    def get_seed(self):\n",
    "        seed = random.choice(seeds)\n",
    "        \n",
    "        if seed not in self.inventory:\n",
    "            self.inventory[seed] = 1\n",
    "        else:\n",
    "            self.inventory[seed] += 1\n",
    "            \n",
    "        print(f\"{self.name} has found the {seed} seed!\")\n",
    "        \n",
    "    def plant(self):\n",
    "        selected_plant = select_seed(self.inventory)\n",
    "        \n",
    "        if selected_plant in self.inventory and self.inventory[selected_plant] > 0:\n",
    "            self.inventory[selected_plant] -= 1\n",
    "            if self.inventory[selected_plant] == 0:\n",
    "                del self.inventory[selected_plant]\n",
    "            new_plant = self.plant_dict[selected_plant]()\n",
    "            \n",
    "            self.planted_plants.append(new_plant)\n",
    "            print(f\"{self.name} has planted a {selected_plant} plant!\")\n",
    "            \n",
    "        else:\n",
    "            print(f\"{self.name} does not have any {selected_plant} plant!\")\n",
    "            \n",
    "    def tend(self):\n",
    "        for plant in self.planted_plants:\n",
    "            if not plant.harvestable:\n",
    "                plant.grow()\n",
    "                print(f\"{plant.name} is now on a {plant.current_stage} stage!\")\n",
    "            else:\n",
    "                print(f\"{plant.name} is ready to be harvested\")\n",
    "            \n",
    "        "
   ]
  },
  {
   "cell_type": "code",
   "execution_count": 41,
   "id": "c1631ab0-52ee-46e6-b479-889f6f242337",
   "metadata": {},
   "outputs": [],
   "source": [
    "class Gardener:\n",
    "    \"\"\"Represent a gardner who can plant and harvest plants.\"\"\"\n",
    "    \n",
    "    plant_dict = {\"tomato\":Tomato, \"potato\": Potato, \"carrot\": Carrot}\n",
    "    \n",
    "    def __init__(self, name):\n",
    "        self.name = name\n",
    "        self.inventory = {} # seed name and quantity\n",
    "        self.planted_plants = []\n",
    "        \n",
    "    def get_seed(self):\n",
    "        seed = random.choice(seeds)\n",
    "        \n",
    "        if seed not in self.inventory:\n",
    "            self.inventory[seed] = 1\n",
    "        else:\n",
    "            self.inventory[seed] += 1\n",
    "            \n",
    "        print(f\"{self.name} has found the {seed} seed!\")\n",
    "        \n",
    "    def plant(self):\n",
    "        selected_plant = select_seed(self.inventory)\n",
    "        \n",
    "        if selected_plant in self.inventory and self.inventory[selected_plant] > 0:\n",
    "            self.inventory[selected_plant] -= 1\n",
    "            if self.inventory[selected_plant] == 0:\n",
    "                del self.inventory[selected_plant]\n",
    "            new_plant = self.plant_dict[selected_plant]()\n",
    "            \n",
    "            self.planted_plants.append(new_plant)\n",
    "            print(f\"{self.name} has planted a {selected_plant} plant!\")\n",
    "            \n",
    "        else:\n",
    "            print(f\"{self.name} does not have any {selected_plant} plant!\")\n",
    "            \n",
    "    def tend(self):\n",
    "        for plant in self.planted_plants:\n",
    "            if not plant.harvestable:\n",
    "                plant.grow()\n",
    "                print(f\"{plant.name} is now on a {plant.current_stage} stage!\")\n",
    "            else:\n",
    "                print(f\"{plant.name} is ready to be harvested\")\n",
    "    def harvest(self):\n",
    "        pass"
   ]
  },
  {
   "cell_type": "code",
   "execution_count": 42,
   "id": "e9ef68cf-c346-4355-9b7d-7d553487a448",
   "metadata": {},
   "outputs": [],
   "source": [
    "def select_item(items): # here items will replace with an inventory dictionary\n",
    "    if type(items) == dict:\n",
    "        item_list = list(items.keys()) # \"tomato\", \"potato\"\n",
    "    elif type(items) == list:\n",
    "        item_list = items  # Tomato(), Potato()\n",
    "    \n",
    "    for i in range(len(item_list)):\n",
    "        try:\n",
    "            item_name = item_list[i].name\n",
    "        except:\n",
    "            item_name = item_list[i]\n",
    "        print(f\"{i+1}. {item_name}\")\n",
    "        \n",
    "    print()   \n",
    "    while True:\n",
    "        user_input = input(\"Select an item \")\n",
    "        try:\n",
    "            user_input = int(user_input)\n",
    "            if 0 <user_input <= len(item_list):\n",
    "                return item_list[user_input -1]\n",
    "            else:\n",
    "                print(\"Invalid Input\")\n",
    "        except:\n",
    "            print(\"Invalid Input\")"
   ]
  },
  {
   "cell_type": "code",
   "execution_count": 43,
   "id": "3067e6e1-5c40-4a01-9802-baecb4176bbd",
   "metadata": {},
   "outputs": [],
   "source": [
    "class Gardener:\n",
    "    \"\"\"Represent a gardner who can plant and harvest plants.\"\"\"\n",
    "    \n",
    "    plant_dict = {\"tomato\":Tomato, \"potato\": Potato, \"carrot\": Carrot}\n",
    "    \n",
    "    def __init__(self, name):\n",
    "        self.name = name\n",
    "        self.inventory = {} # seed & harvest yield\n",
    "        self.planted_plants = []\n",
    "        \n",
    "    def get_seed(self):\n",
    "        seed = random.choice(seeds)\n",
    "        \n",
    "        if seed not in self.inventory:\n",
    "            self.inventory[seed] = 1\n",
    "        else:\n",
    "            self.inventory[seed] += 1\n",
    "            \n",
    "        print(f\"{self.name} has found the {seed} seed!\")\n",
    "        \n",
    "    def plant(self):\n",
    "        selected_plant = select_item(self.inventory) # name\n",
    "        \n",
    "        if selected_plant in self.inventory and self.inventory[selected_plant] > 0:\n",
    "            self.inventory[selected_plant] -= 1\n",
    "            if self.inventory[selected_plant] == 0:\n",
    "                del self.inventory[selected_plant]\n",
    "            new_plant = self.plant_dict[selected_plant]()\n",
    "            \n",
    "            self.planted_plants.append(new_plant)\n",
    "            print(f\"{self.name} has planted a {selected_plant} plant!\")\n",
    "            \n",
    "        else:\n",
    "            print(f\"{self.name} does not have any {selected_plant} plant!\")\n",
    "            \n",
    "    def tend(self):\n",
    "        for plant in self.planted_plants:\n",
    "            if not plant.harvestable:\n",
    "                plant.grow()\n",
    "                print(f\"{plant.name} is now on a {plant.current_stage} stage!\")\n",
    "            else:\n",
    "                print(f\"{plant.name} is ready to be harvested\")\n",
    "    def harvest(self):\n",
    "        selected_plant = select_item(self.planted_plants) # instances\n",
    "        if selected_plant.harvestable == True:\n",
    "            if selected_plant.name not in self.inventory:\n",
    "                self.inventory[selected_plant.name] = selected_plant.harvest()\n",
    "            else:\n",
    "                self.inventory[selected_plant.name] += selected_plant.harvest()\n",
    "            print(f\"You have harvested {selected_plant.name}!\")\n",
    "            self.planted_plants.remove(selected_plant)\n",
    "            \n",
    "        else:\n",
    "            print(f\"You can't harvest {selected_plant.name}!\")\n",
    "            \n",
    "        \n",
    "        "
   ]
  },
  {
   "cell_type": "code",
   "execution_count": 48,
   "id": "b76fbdbc-6b88-4a35-a59c-cd685775a215",
   "metadata": {},
   "outputs": [
    {
     "name": "stdout",
     "output_type": "stream",
     "text": [
      "Welcome to the Virtual Garden!\n"
     ]
    },
    {
     "name": "stdin",
     "output_type": "stream",
     "text": [
      "What is the gardener name!  aun\n"
     ]
    },
    {
     "name": "stdout",
     "output_type": "stream",
     "text": [
      "Welcome <__main__.Gardener object at 0x0000026476272290>!\n",
      "Type 'help' for valid command.\n"
     ]
    },
    {
     "name": "stdin",
     "output_type": "stream",
     "text": [
      "What do you want to do?  help\n",
      "What do you want to do?  seed\n",
      "What do you want to do?  seed\n",
      "What do you want to do?  seed\n",
      "What do you want to do?  seed\n",
      "What do you want to do?  fff\n"
     ]
    },
    {
     "name": "stdout",
     "output_type": "stream",
     "text": [
      "Invalid Command\n"
     ]
    },
    {
     "name": "stdin",
     "output_type": "stream",
     "text": [
      "What do you want to do?  hadsad\n"
     ]
    },
    {
     "name": "stdout",
     "output_type": "stream",
     "text": [
      "Invalid Command\n"
     ]
    },
    {
     "name": "stdin",
     "output_type": "stream",
     "text": [
      "What do you want to do?  0\n"
     ]
    },
    {
     "name": "stdout",
     "output_type": "stream",
     "text": [
      "Invalid Command\n"
     ]
    },
    {
     "name": "stdin",
     "output_type": "stream",
     "text": [
      "What do you want to do?  exit\n"
     ]
    },
    {
     "name": "stdout",
     "output_type": "stream",
     "text": [
      "Invalid Command\n"
     ]
    },
    {
     "ename": "KeyboardInterrupt",
     "evalue": "Interrupted by user",
     "output_type": "error",
     "traceback": [
      "\u001b[1;31m---------------------------------------------------------------------------\u001b[0m",
      "\u001b[1;31mKeyboardInterrupt\u001b[0m                         Traceback (most recent call last)",
      "Cell \u001b[1;32mIn[48], line 13\u001b[0m\n\u001b[0;32m     10\u001b[0m gardener \u001b[38;5;241m=\u001b[39m Gardener(gardener_name)\n\u001b[0;32m     12\u001b[0m \u001b[38;5;28;01mwhile\u001b[39;00m \u001b[38;5;28;01mTrue\u001b[39;00m:\n\u001b[1;32m---> 13\u001b[0m     gardener_action \u001b[38;5;241m=\u001b[39m \u001b[38;5;28minput\u001b[39m(\u001b[38;5;124m\"\u001b[39m\u001b[38;5;124mWhat do you want to do? \u001b[39m\u001b[38;5;124m\"\u001b[39m)\n\u001b[0;32m     14\u001b[0m     gardener_action \u001b[38;5;241m=\u001b[39m gardener_action\u001b[38;5;241m.\u001b[39mlower()\n\u001b[0;32m     15\u001b[0m     \u001b[38;5;28;01mif\u001b[39;00m gardener_action \u001b[38;5;129;01min\u001b[39;00m valid_commands:\n",
      "File \u001b[1;32m~\\anaconda3\\Lib\\site-packages\\ipykernel\\kernelbase.py:1262\u001b[0m, in \u001b[0;36mKernel.raw_input\u001b[1;34m(self, prompt)\u001b[0m\n\u001b[0;32m   1260\u001b[0m     msg \u001b[38;5;241m=\u001b[39m \u001b[38;5;124m\"\u001b[39m\u001b[38;5;124mraw_input was called, but this frontend does not support input requests.\u001b[39m\u001b[38;5;124m\"\u001b[39m\n\u001b[0;32m   1261\u001b[0m     \u001b[38;5;28;01mraise\u001b[39;00m StdinNotImplementedError(msg)\n\u001b[1;32m-> 1262\u001b[0m \u001b[38;5;28;01mreturn\u001b[39;00m \u001b[38;5;28mself\u001b[39m\u001b[38;5;241m.\u001b[39m_input_request(\n\u001b[0;32m   1263\u001b[0m     \u001b[38;5;28mstr\u001b[39m(prompt),\n\u001b[0;32m   1264\u001b[0m     \u001b[38;5;28mself\u001b[39m\u001b[38;5;241m.\u001b[39m_parent_ident[\u001b[38;5;124m\"\u001b[39m\u001b[38;5;124mshell\u001b[39m\u001b[38;5;124m\"\u001b[39m],\n\u001b[0;32m   1265\u001b[0m     \u001b[38;5;28mself\u001b[39m\u001b[38;5;241m.\u001b[39mget_parent(\u001b[38;5;124m\"\u001b[39m\u001b[38;5;124mshell\u001b[39m\u001b[38;5;124m\"\u001b[39m),\n\u001b[0;32m   1266\u001b[0m     password\u001b[38;5;241m=\u001b[39m\u001b[38;5;28;01mFalse\u001b[39;00m,\n\u001b[0;32m   1267\u001b[0m )\n",
      "File \u001b[1;32m~\\anaconda3\\Lib\\site-packages\\ipykernel\\kernelbase.py:1305\u001b[0m, in \u001b[0;36mKernel._input_request\u001b[1;34m(self, prompt, ident, parent, password)\u001b[0m\n\u001b[0;32m   1302\u001b[0m \u001b[38;5;28;01mexcept\u001b[39;00m \u001b[38;5;167;01mKeyboardInterrupt\u001b[39;00m:\n\u001b[0;32m   1303\u001b[0m     \u001b[38;5;66;03m# re-raise KeyboardInterrupt, to truncate traceback\u001b[39;00m\n\u001b[0;32m   1304\u001b[0m     msg \u001b[38;5;241m=\u001b[39m \u001b[38;5;124m\"\u001b[39m\u001b[38;5;124mInterrupted by user\u001b[39m\u001b[38;5;124m\"\u001b[39m\n\u001b[1;32m-> 1305\u001b[0m     \u001b[38;5;28;01mraise\u001b[39;00m \u001b[38;5;167;01mKeyboardInterrupt\u001b[39;00m(msg) \u001b[38;5;28;01mfrom\u001b[39;00m \u001b[38;5;28;01mNone\u001b[39;00m\n\u001b[0;32m   1306\u001b[0m \u001b[38;5;28;01mexcept\u001b[39;00m \u001b[38;5;167;01mException\u001b[39;00m:\n\u001b[0;32m   1307\u001b[0m     \u001b[38;5;28mself\u001b[39m\u001b[38;5;241m.\u001b[39mlog\u001b[38;5;241m.\u001b[39mwarning(\u001b[38;5;124m\"\u001b[39m\u001b[38;5;124mInvalid Message:\u001b[39m\u001b[38;5;124m\"\u001b[39m, exc_info\u001b[38;5;241m=\u001b[39m\u001b[38;5;28;01mTrue\u001b[39;00m)\n",
      "\u001b[1;31mKeyboardInterrupt\u001b[0m: Interrupted by user"
     ]
    }
   ],
   "source": [
    "valid_commands = [\"help\", \"quit\", \"seed\",\"plant\",\"tend\", \"harvest\" ]\n",
    "\n",
    "\n",
    "print(\"Welcome to the Virtual Garden!\")\n",
    "\n",
    "gardener_name = input(\"What is the gardener name! \")\n",
    "\n",
    "print(f\"Welcome {gardener}!\\nType 'help' for valid command.\")\n",
    "\n",
    "gardener = Gardener(gardener_name)\n",
    "\n",
    "while True:\n",
    "    gardener_action = input(\"What do you want to do? \")\n",
    "    gardener_action = gardener_action.lower()\n",
    "    if gardener_action in valid_commands:\n",
    "        pass\n",
    "    else:\n",
    "        print(\"Invalid Command\")\n",
    "\n"
   ]
  },
  {
   "cell_type": "code",
   "execution_count": 49,
   "id": "f2fe04ed-353d-4dde-9156-ae0f395d8f6a",
   "metadata": {},
   "outputs": [
    {
     "name": "stdout",
     "output_type": "stream",
     "text": [
      "Welcome to the Virtual Garden!\n"
     ]
    },
    {
     "name": "stdin",
     "output_type": "stream",
     "text": [
      "What is the gardener name!  aun\n"
     ]
    },
    {
     "name": "stdout",
     "output_type": "stream",
     "text": [
      "Welcome aun!\n",
      "Type 'help' for valid command.\n"
     ]
    },
    {
     "name": "stdin",
     "output_type": "stream",
     "text": [
      "What do you want to do?  help\n"
     ]
    },
    {
     "name": "stdout",
     "output_type": "stream",
     "text": [
      "***Available Commands***\n",
      "help\n",
      "quit\n",
      "seed\n",
      "plant\n",
      "tend\n",
      "harvest\n"
     ]
    },
    {
     "name": "stdin",
     "output_type": "stream",
     "text": [
      "What do you want to do?  seed\n"
     ]
    },
    {
     "ename": "NameError",
     "evalue": "name 'seeds' is not defined",
     "output_type": "error",
     "traceback": [
      "\u001b[1;31m---------------------------------------------------------------------------\u001b[0m",
      "\u001b[1;31mNameError\u001b[0m                                 Traceback (most recent call last)",
      "Cell \u001b[1;32mIn[49], line 21\u001b[0m\n\u001b[0;32m     19\u001b[0m         \u001b[38;5;28mprint\u001b[39m(command)\n\u001b[0;32m     20\u001b[0m \u001b[38;5;28;01melif\u001b[39;00m gardener_action \u001b[38;5;241m==\u001b[39m \u001b[38;5;124m\"\u001b[39m\u001b[38;5;124mseed\u001b[39m\u001b[38;5;124m\"\u001b[39m:\n\u001b[1;32m---> 21\u001b[0m     gardener\u001b[38;5;241m.\u001b[39mget_seed()\n\u001b[0;32m     22\u001b[0m \u001b[38;5;28;01melif\u001b[39;00m gardener_action \u001b[38;5;241m==\u001b[39m \u001b[38;5;124m\"\u001b[39m\u001b[38;5;124mplant\u001b[39m\u001b[38;5;124m\"\u001b[39m:\n\u001b[0;32m     23\u001b[0m     gardener\u001b[38;5;241m.\u001b[39mplant()\n",
      "Cell \u001b[1;32mIn[43], line 12\u001b[0m, in \u001b[0;36mGardener.get_seed\u001b[1;34m(self)\u001b[0m\n\u001b[0;32m     11\u001b[0m \u001b[38;5;28;01mdef\u001b[39;00m \u001b[38;5;21mget_seed\u001b[39m(\u001b[38;5;28mself\u001b[39m):\n\u001b[1;32m---> 12\u001b[0m     seed \u001b[38;5;241m=\u001b[39m random\u001b[38;5;241m.\u001b[39mchoice(seeds)\n\u001b[0;32m     14\u001b[0m     \u001b[38;5;28;01mif\u001b[39;00m seed \u001b[38;5;129;01mnot\u001b[39;00m \u001b[38;5;129;01min\u001b[39;00m \u001b[38;5;28mself\u001b[39m\u001b[38;5;241m.\u001b[39minventory:\n\u001b[0;32m     15\u001b[0m         \u001b[38;5;28mself\u001b[39m\u001b[38;5;241m.\u001b[39minventory[seed] \u001b[38;5;241m=\u001b[39m \u001b[38;5;241m1\u001b[39m\n",
      "\u001b[1;31mNameError\u001b[0m: name 'seeds' is not defined"
     ]
    }
   ],
   "source": [
    "valid_commands = [\"help\", \"quit\", \"seed\",\"plant\",\"tend\", \"harvest\" ]\n",
    "\n",
    "\n",
    "print(\"Welcome to the Virtual Garden!\")\n",
    "\n",
    "gardener_name = input(\"What is the gardener name! \")\n",
    "\n",
    "print(f\"Welcome {gardener_name}!\\nType 'help' for valid command.\")\n",
    "\n",
    "gardener = Gardener(gardener_name)\n",
    "\n",
    "while True:\n",
    "    gardener_action = input(\"What do you want to do? \")\n",
    "    gardener_action = gardener_action.lower()\n",
    "    if gardener_action in valid_commands:\n",
    "        if gardener_action == \"help\":\n",
    "            print(\"***Available Commands***\")\n",
    "            for command in valid_commands:\n",
    "                print(command)\n",
    "        elif gardener_action == \"seed\":\n",
    "            gardener.get_seed()\n",
    "        elif gardener_action == \"plant\":\n",
    "            gardener.plant()\n",
    "        elif gardener_action == \"tend\":\n",
    "            gardener.tend()\n",
    "        elif gardener_action == \"harvest\":\n",
    "            gardener.harvest()\n",
    "        elif gardener_action == \"quit\":\n",
    "            print(\"Thank you for your interest. Come again. Good Bye!\")\n",
    "            break\n",
    "    else:\n",
    "        print(\"Invalid Command\")"
   ]
  },
  {
   "cell_type": "code",
   "execution_count": 47,
   "id": "403c0c3d-b5b9-415c-a252-75e92e2c7b65",
   "metadata": {},
   "outputs": [
    {
     "name": "stdout",
     "output_type": "stream",
     "text": [
      "Welcome to the Virtual Garden!\n"
     ]
    },
    {
     "name": "stdin",
     "output_type": "stream",
     "text": [
      "What is the gardener name!  aun\n"
     ]
    },
    {
     "name": "stdout",
     "output_type": "stream",
     "text": [
      "Welcome aun!\n",
      "Type 'help' for valid command.\n"
     ]
    },
    {
     "name": "stdin",
     "output_type": "stream",
     "text": [
      "What do you want to do?  help\n"
     ]
    },
    {
     "name": "stdout",
     "output_type": "stream",
     "text": [
      "***Available Commands***\n",
      "help\n",
      "quit\n",
      "seed\n",
      "plant\n",
      "tend\n",
      "harvest\n"
     ]
    },
    {
     "name": "stdin",
     "output_type": "stream",
     "text": [
      "What do you want to do?  seed\n"
     ]
    },
    {
     "ename": "NameError",
     "evalue": "name 'seeds' is not defined",
     "output_type": "error",
     "traceback": [
      "\u001b[1;31m---------------------------------------------------------------------------\u001b[0m",
      "\u001b[1;31mNameError\u001b[0m                                 Traceback (most recent call last)",
      "Cell \u001b[1;32mIn[47], line 21\u001b[0m\n\u001b[0;32m     19\u001b[0m         \u001b[38;5;28mprint\u001b[39m(command)\n\u001b[0;32m     20\u001b[0m \u001b[38;5;28;01melif\u001b[39;00m gardener_action \u001b[38;5;241m==\u001b[39m \u001b[38;5;124m\"\u001b[39m\u001b[38;5;124mseed\u001b[39m\u001b[38;5;124m\"\u001b[39m:\n\u001b[1;32m---> 21\u001b[0m     gardener\u001b[38;5;241m.\u001b[39mget_seed()\n\u001b[0;32m     22\u001b[0m \u001b[38;5;28;01melif\u001b[39;00m gardener_action \u001b[38;5;241m==\u001b[39m \u001b[38;5;124m\"\u001b[39m\u001b[38;5;124mplant\u001b[39m\u001b[38;5;124m\"\u001b[39m:\n\u001b[0;32m     23\u001b[0m     gardener\u001b[38;5;241m.\u001b[39mplant()\n",
      "Cell \u001b[1;32mIn[43], line 12\u001b[0m, in \u001b[0;36mGardener.get_seed\u001b[1;34m(self)\u001b[0m\n\u001b[0;32m     11\u001b[0m \u001b[38;5;28;01mdef\u001b[39;00m \u001b[38;5;21mget_seed\u001b[39m(\u001b[38;5;28mself\u001b[39m):\n\u001b[1;32m---> 12\u001b[0m     seed \u001b[38;5;241m=\u001b[39m random\u001b[38;5;241m.\u001b[39mchoice(seeds)\n\u001b[0;32m     14\u001b[0m     \u001b[38;5;28;01mif\u001b[39;00m seed \u001b[38;5;129;01mnot\u001b[39;00m \u001b[38;5;129;01min\u001b[39;00m \u001b[38;5;28mself\u001b[39m\u001b[38;5;241m.\u001b[39minventory:\n\u001b[0;32m     15\u001b[0m         \u001b[38;5;28mself\u001b[39m\u001b[38;5;241m.\u001b[39minventory[seed] \u001b[38;5;241m=\u001b[39m \u001b[38;5;241m1\u001b[39m\n",
      "\u001b[1;31mNameError\u001b[0m: name 'seeds' is not defined"
     ]
    }
   ],
   "source": [
    "valid_commands = [\"help\", \"quit\", \"seed\",\"plant\",\"tend\", \"harvest\" ]\n",
    "\n",
    "\n",
    "print(\"Welcome to the Virtual Garden!\")\n",
    "\n",
    "gardener_name = input(\"What is the gardener name! \")\n",
    "\n",
    "print(f\"Welcome {gardener_name}!\\nType 'help' for valid command.\")\n",
    "\n",
    "gardener = Gardener(gardener_name)\n",
    "\n",
    "while True:\n",
    "    gardener_action = input(\"What do you want to do? \")\n",
    "    gardener_action = gardener_action.lower()\n",
    "    if gardener_action in valid_commands:\n",
    "        if gardener_action == \"help\":\n",
    "            print(\"***Available Commands***\")\n",
    "            for command in valid_commands:\n",
    "                print(command)\n",
    "        elif gardener_action == \"seed\":\n",
    "            gardener.get_seed()\n",
    "        elif gardener_action == \"plant\":\n",
    "            gardener.plant()\n",
    "        elif gardener_action == \"tend\":\n",
    "            gardener.tend()\n",
    "        elif gardener_action == \"harvest\":\n",
    "            gardener.harvest()\n",
    "        elif gardener_action == \"quit\":\n",
    "            print(\"Thank you for your interest. Come again. Good Bye!\")\n",
    "            break\n",
    "    else:\n",
    "        print(\"Invalid Command\")"
   ]
  },
  {
   "cell_type": "code",
   "execution_count": null,
   "id": "384be3f6-c784-4468-958d-d8fdd26e9cb2",
   "metadata": {},
   "outputs": [],
   "source": []
  },
  {
   "cell_type": "code",
   "execution_count": 56,
   "id": "4997c3aa-26b0-4835-8af5-abee36e215b7",
   "metadata": {},
   "outputs": [
    {
     "name": "stdout",
     "output_type": "stream",
     "text": [
      "*** Welcome to my  Virtual Garden:) ***\n"
     ]
    },
    {
     "name": "stdin",
     "output_type": "stream",
     "text": [
      "What is the gardener name  aun\n"
     ]
    },
    {
     "name": "stdout",
     "output_type": "stream",
     "text": [
      "Welcome aun!\n",
      "Type 'help' for valid command.\n"
     ]
    },
    {
     "name": "stdin",
     "output_type": "stream",
     "text": [
      "What do you want to do?  help\n"
     ]
    },
    {
     "name": "stdout",
     "output_type": "stream",
     "text": [
      "***Available Commands***\n",
      "help\n",
      "quit\n",
      "seed\n",
      "plant\n",
      "tend\n",
      "harvest\n"
     ]
    },
    {
     "name": "stdin",
     "output_type": "stream",
     "text": [
      "What do you want to do?  seed\n"
     ]
    },
    {
     "name": "stdout",
     "output_type": "stream",
     "text": [
      "CONGRATULATION! aun has found the carrot seed\n"
     ]
    },
    {
     "name": "stdin",
     "output_type": "stream",
     "text": [
      "What do you want to do?  seed\n"
     ]
    },
    {
     "name": "stdout",
     "output_type": "stream",
     "text": [
      "CONGRATULATION! aun has found the tomato seed\n"
     ]
    },
    {
     "name": "stdin",
     "output_type": "stream",
     "text": [
      "What do you want to do?  seed\n"
     ]
    },
    {
     "name": "stdout",
     "output_type": "stream",
     "text": [
      "CONGRATULATION! aun has found the potato seed\n"
     ]
    },
    {
     "name": "stdin",
     "output_type": "stream",
     "text": [
      "What do you want to do?  seed\n"
     ]
    },
    {
     "name": "stdout",
     "output_type": "stream",
     "text": [
      "CONGRATULATION! aun has found the carrot seed\n"
     ]
    },
    {
     "name": "stdin",
     "output_type": "stream",
     "text": [
      "What do you want to do?  plant\n"
     ]
    },
    {
     "name": "stdout",
     "output_type": "stream",
     "text": [
      "1. carrot\n",
      "2. tomato\n",
      "3. potato\n",
      "\n"
     ]
    },
    {
     "name": "stdin",
     "output_type": "stream",
     "text": [
      "Select an item  1\n"
     ]
    },
    {
     "name": "stdout",
     "output_type": "stream",
     "text": [
      "GREAT! aun has planted a carrot plant!\n"
     ]
    },
    {
     "name": "stdin",
     "output_type": "stream",
     "text": [
      "What do you want to do?  plant\n"
     ]
    },
    {
     "name": "stdout",
     "output_type": "stream",
     "text": [
      "1. carrot\n",
      "2. tomato\n",
      "3. potato\n",
      "\n"
     ]
    },
    {
     "name": "stdin",
     "output_type": "stream",
     "text": [
      "Select an item  1\n"
     ]
    },
    {
     "name": "stdout",
     "output_type": "stream",
     "text": [
      "GREAT! aun has planted a carrot plant!\n"
     ]
    },
    {
     "name": "stdin",
     "output_type": "stream",
     "text": [
      "What do you want to do?  plant\n"
     ]
    },
    {
     "name": "stdout",
     "output_type": "stream",
     "text": [
      "1. tomato\n",
      "2. potato\n",
      "\n"
     ]
    },
    {
     "name": "stdin",
     "output_type": "stream",
     "text": [
      "Select an item  1\n"
     ]
    },
    {
     "name": "stdout",
     "output_type": "stream",
     "text": [
      "GREAT! aun has planted a tomato plant!\n"
     ]
    },
    {
     "name": "stdin",
     "output_type": "stream",
     "text": [
      "What do you want to do?  plant\n"
     ]
    },
    {
     "name": "stdout",
     "output_type": "stream",
     "text": [
      "1. potato\n",
      "\n"
     ]
    },
    {
     "name": "stdin",
     "output_type": "stream",
     "text": [
      "Select an item  1\n"
     ]
    },
    {
     "name": "stdout",
     "output_type": "stream",
     "text": [
      "GREAT! aun has planted a potato plant!\n"
     ]
    },
    {
     "name": "stdin",
     "output_type": "stream",
     "text": [
      "What do you want to do?  plant\n"
     ]
    },
    {
     "name": "stdout",
     "output_type": "stream",
     "text": [
      "\n"
     ]
    },
    {
     "ename": "KeyboardInterrupt",
     "evalue": "Interrupted by user",
     "output_type": "error",
     "traceback": [
      "\u001b[1;31m---------------------------------------------------------------------------\u001b[0m",
      "\u001b[1;31mKeyboardInterrupt\u001b[0m                         Traceback (most recent call last)",
      "Cell \u001b[1;32mIn[56], line 170\u001b[0m\n\u001b[0;32m    168\u001b[0m     gardener\u001b[38;5;241m.\u001b[39mget_seed()\n\u001b[0;32m    169\u001b[0m \u001b[38;5;28;01melif\u001b[39;00m gardener_action \u001b[38;5;241m==\u001b[39m \u001b[38;5;124m\"\u001b[39m\u001b[38;5;124mplant\u001b[39m\u001b[38;5;124m\"\u001b[39m:\n\u001b[1;32m--> 170\u001b[0m     gardener\u001b[38;5;241m.\u001b[39mplant()\n\u001b[0;32m    171\u001b[0m \u001b[38;5;28;01melif\u001b[39;00m gardener_action \u001b[38;5;241m==\u001b[39m \u001b[38;5;124m\"\u001b[39m\u001b[38;5;124mtend\u001b[39m\u001b[38;5;124m\"\u001b[39m:\n\u001b[0;32m    172\u001b[0m     gardener\u001b[38;5;241m.\u001b[39mtend()\n",
      "Cell \u001b[1;32mIn[56], line 112\u001b[0m, in \u001b[0;36mGardener.plant\u001b[1;34m(self)\u001b[0m\n\u001b[0;32m    111\u001b[0m \u001b[38;5;28;01mdef\u001b[39;00m \u001b[38;5;21mplant\u001b[39m(\u001b[38;5;28mself\u001b[39m):\n\u001b[1;32m--> 112\u001b[0m     selected_plant \u001b[38;5;241m=\u001b[39m select_item(\u001b[38;5;28mself\u001b[39m\u001b[38;5;241m.\u001b[39minventory) \n\u001b[0;32m    114\u001b[0m     \u001b[38;5;28;01mif\u001b[39;00m selected_plant \u001b[38;5;129;01min\u001b[39;00m \u001b[38;5;28mself\u001b[39m\u001b[38;5;241m.\u001b[39minventory \u001b[38;5;129;01mand\u001b[39;00m \u001b[38;5;28mself\u001b[39m\u001b[38;5;241m.\u001b[39minventory[selected_plant] \u001b[38;5;241m>\u001b[39m \u001b[38;5;241m0\u001b[39m:\n\u001b[0;32m    115\u001b[0m         \u001b[38;5;28mself\u001b[39m\u001b[38;5;241m.\u001b[39minventory[selected_plant] \u001b[38;5;241m-\u001b[39m\u001b[38;5;241m=\u001b[39m \u001b[38;5;241m1\u001b[39m\n",
      "Cell \u001b[1;32mIn[56], line 80\u001b[0m, in \u001b[0;36mselect_item\u001b[1;34m(items)\u001b[0m\n\u001b[0;32m     78\u001b[0m \u001b[38;5;28mprint\u001b[39m()   \n\u001b[0;32m     79\u001b[0m \u001b[38;5;28;01mwhile\u001b[39;00m \u001b[38;5;28;01mTrue\u001b[39;00m:\n\u001b[1;32m---> 80\u001b[0m     user_input \u001b[38;5;241m=\u001b[39m \u001b[38;5;28minput\u001b[39m(\u001b[38;5;124m\"\u001b[39m\u001b[38;5;124mSelect an item \u001b[39m\u001b[38;5;124m\"\u001b[39m)\n\u001b[0;32m     81\u001b[0m     \u001b[38;5;28;01mtry\u001b[39;00m:\n\u001b[0;32m     82\u001b[0m         user_input \u001b[38;5;241m=\u001b[39m \u001b[38;5;28mint\u001b[39m(user_input)\n",
      "File \u001b[1;32m~\\anaconda3\\Lib\\site-packages\\ipykernel\\kernelbase.py:1262\u001b[0m, in \u001b[0;36mKernel.raw_input\u001b[1;34m(self, prompt)\u001b[0m\n\u001b[0;32m   1260\u001b[0m     msg \u001b[38;5;241m=\u001b[39m \u001b[38;5;124m\"\u001b[39m\u001b[38;5;124mraw_input was called, but this frontend does not support input requests.\u001b[39m\u001b[38;5;124m\"\u001b[39m\n\u001b[0;32m   1261\u001b[0m     \u001b[38;5;28;01mraise\u001b[39;00m StdinNotImplementedError(msg)\n\u001b[1;32m-> 1262\u001b[0m \u001b[38;5;28;01mreturn\u001b[39;00m \u001b[38;5;28mself\u001b[39m\u001b[38;5;241m.\u001b[39m_input_request(\n\u001b[0;32m   1263\u001b[0m     \u001b[38;5;28mstr\u001b[39m(prompt),\n\u001b[0;32m   1264\u001b[0m     \u001b[38;5;28mself\u001b[39m\u001b[38;5;241m.\u001b[39m_parent_ident[\u001b[38;5;124m\"\u001b[39m\u001b[38;5;124mshell\u001b[39m\u001b[38;5;124m\"\u001b[39m],\n\u001b[0;32m   1265\u001b[0m     \u001b[38;5;28mself\u001b[39m\u001b[38;5;241m.\u001b[39mget_parent(\u001b[38;5;124m\"\u001b[39m\u001b[38;5;124mshell\u001b[39m\u001b[38;5;124m\"\u001b[39m),\n\u001b[0;32m   1266\u001b[0m     password\u001b[38;5;241m=\u001b[39m\u001b[38;5;28;01mFalse\u001b[39;00m,\n\u001b[0;32m   1267\u001b[0m )\n",
      "File \u001b[1;32m~\\anaconda3\\Lib\\site-packages\\ipykernel\\kernelbase.py:1305\u001b[0m, in \u001b[0;36mKernel._input_request\u001b[1;34m(self, prompt, ident, parent, password)\u001b[0m\n\u001b[0;32m   1302\u001b[0m \u001b[38;5;28;01mexcept\u001b[39;00m \u001b[38;5;167;01mKeyboardInterrupt\u001b[39;00m:\n\u001b[0;32m   1303\u001b[0m     \u001b[38;5;66;03m# re-raise KeyboardInterrupt, to truncate traceback\u001b[39;00m\n\u001b[0;32m   1304\u001b[0m     msg \u001b[38;5;241m=\u001b[39m \u001b[38;5;124m\"\u001b[39m\u001b[38;5;124mInterrupted by user\u001b[39m\u001b[38;5;124m\"\u001b[39m\n\u001b[1;32m-> 1305\u001b[0m     \u001b[38;5;28;01mraise\u001b[39;00m \u001b[38;5;167;01mKeyboardInterrupt\u001b[39;00m(msg) \u001b[38;5;28;01mfrom\u001b[39;00m \u001b[38;5;28;01mNone\u001b[39;00m\n\u001b[0;32m   1306\u001b[0m \u001b[38;5;28;01mexcept\u001b[39;00m \u001b[38;5;167;01mException\u001b[39;00m:\n\u001b[0;32m   1307\u001b[0m     \u001b[38;5;28mself\u001b[39m\u001b[38;5;241m.\u001b[39mlog\u001b[38;5;241m.\u001b[39mwarning(\u001b[38;5;124m\"\u001b[39m\u001b[38;5;124mInvalid Message:\u001b[39m\u001b[38;5;124m\"\u001b[39m, exc_info\u001b[38;5;241m=\u001b[39m\u001b[38;5;28;01mTrue\u001b[39;00m)\n",
      "\u001b[1;31mKeyboardInterrupt\u001b[0m: Interrupted by user"
     ]
    }
   ],
   "source": [
    "class Plant:\n",
    "    def __init__(self, name, harvest_yield):\n",
    "        self.name = name\n",
    "        self.harvest_yield = harvest_yield\n",
    "        self.growth_stages = [\"seed\", \"sprout\", \"mature\", \"flower\", \"fruit\", \"harvest_ready\"]\n",
    "        self.current_stage = self.growth_stages[0]\n",
    "        self.harvestable = False\n",
    "        \n",
    "    def grow(self):\n",
    "        current_index = self.growth_stages.index(self.current_stage)\n",
    "        \n",
    "        if current_index < (len(self.growth_stages)-1):\n",
    "            self.current_stage = self.growth_stages[current_index + 1]\n",
    "            if self.current_stage == self.growth_stages[-1]:\n",
    "                self.harvestable = True\n",
    "                \n",
    "        elif self.current_stage == self.growth_stages[-1]:\n",
    "            print(f\"{self.name} is already fully grown\")\n",
    "            \n",
    "    def harvest(self):\n",
    "        if self.harvestable:\n",
    "            self.harvestable = False\n",
    "            return self.harvest_yield\n",
    "        else:\n",
    "            return None\n",
    "\n",
    "class Tomato(Plant):\n",
    "    def __init__(self):\n",
    "        super().__init__(\"Tomato\", 10)\n",
    "        \n",
    "\n",
    "class Potato(Plant):\n",
    "    def __init__(self):\n",
    "        super().__init__(\"Potato\", 3)\n",
    "        self.growth_stages = [\"seed\", \"sprout\", \"mature\", \"harvest_ready\"]\n",
    "        \n",
    "class Carrot(Plant):\n",
    "    def __init__(self):\n",
    "        super().__init__(\"Carrot\", 5)\n",
    "        self.growth_stages = [\"seed\", \"sprout\", \"mature\", \"harvest_ready\"]\n",
    "\n",
    "import random\n",
    "\n",
    "seeds = [\"tomato\", \"potato\", \"carrot\"]\n",
    "\n",
    "def select_seed(items):\n",
    "    item_list = list(items.keys())\n",
    "    \n",
    "    for i in range(len(item_list)):\n",
    "        item_name = item_list[i]\n",
    "        print(f\"{i+1}. {item_name}\")\n",
    "    print()   \n",
    "    while True:\n",
    "        user_input = input(\"Select an item  \")\n",
    "        try:\n",
    "            user_input = int(user_input)\n",
    "            if 0 <user_input <= len(item_list):\n",
    "                return item_list[user_input -1]\n",
    "            else:\n",
    "                print(\"Invalid Input\")\n",
    "        except:\n",
    "            print(\"Invalid Input\")\n",
    "\n",
    "\n",
    "def select_item(items): \n",
    "    if type(items) == dict:\n",
    "        item_list = list(items.keys())\n",
    "    elif type(items) == list:\n",
    "        item_list = items \n",
    "    \n",
    "    for i in range(len(item_list)):\n",
    "        try:\n",
    "            item_name = item_list[i].name\n",
    "        except:\n",
    "            item_name = item_list[i]\n",
    "        print(f\"{i+1}. {item_name}\")\n",
    "        \n",
    "    print()   \n",
    "    while True:\n",
    "        user_input = input(\"Select an item \")\n",
    "        try:\n",
    "            user_input = int(user_input)\n",
    "            if 0 <user_input <= len(item_list):\n",
    "                return item_list[user_input -1]\n",
    "            else:\n",
    "                print(\"Invalid Input\")\n",
    "        except:\n",
    "            print(\"Invalid Input\")\n",
    "\n",
    "\n",
    "class Gardener:\n",
    "    \"\"\"Represent a gardner who can plant and harvest plants.\"\"\"\n",
    "    \n",
    "    plant_dict = {\"tomato\":Tomato, \"potato\": Potato, \"carrot\": Carrot}\n",
    "    \n",
    "    def __init__(self, name):\n",
    "        self.name = name\n",
    "        self.inventory = {}\n",
    "        self.planted_plants = []\n",
    "        \n",
    "    def get_seed(self):\n",
    "        seed = random.choice(seeds)\n",
    "        \n",
    "        if seed not in self.inventory:\n",
    "            self.inventory[seed] = 1\n",
    "        else:\n",
    "            self.inventory[seed] += 1\n",
    "            \n",
    "        print(f\"CONGRATULATION! {self.name} has found the {seed} seed\")\n",
    "        \n",
    "    def plant(self):\n",
    "        selected_plant = select_item(self.inventory) \n",
    "        \n",
    "        if selected_plant in self.inventory and self.inventory[selected_plant] > 0:\n",
    "            self.inventory[selected_plant] -= 1\n",
    "            if self.inventory[selected_plant] == 0:\n",
    "                del self.inventory[selected_plant]\n",
    "            new_plant = self.plant_dict[selected_plant]()\n",
    "            \n",
    "            self.planted_plants.append(new_plant)\n",
    "            print(f\"GREAT! {self.name} has planted a {selected_plant} plant!\")\n",
    "            \n",
    "        else:\n",
    "            print(f\"OOPS! {self.name} does not have any {selected_plant} plant!\")\n",
    "            \n",
    "    def tend(self):\n",
    "        for plant in self.planted_plants:\n",
    "            if not plant.harvestable:\n",
    "                plant.grow()\n",
    "                print(f\"{plant.name} is now on a {plant.current_stage} stage!\")\n",
    "            else:\n",
    "                print(f\"CONGRATULATIONS! {plant.name} is ready to be harvested\")\n",
    "    def harvest(self):\n",
    "        selected_plant = select_item(self.planted_plants)\n",
    "        if selected_plant.harvestable == True:\n",
    "            if selected_plant.name not in self.inventory:\n",
    "                self.inventory[selected_plant.name] = selected_plant.harvest()\n",
    "            else:\n",
    "                self.inventory[selected_plant.name] += selected_plant.harvest()\n",
    "            print(f\"You have harvested {selected_plant.name}!\")\n",
    "            self.planted_plants.remove(selected_plant)\n",
    "            \n",
    "        else:\n",
    "            print(f\"OOPS! You can't harvest {selected_plant.name}!\")\n",
    "            \n",
    "        \n",
    "\n",
    "valid_commands = [\"help\", \"quit\", \"seed\",\"plant\",\"tend\", \"harvest\" ]\n",
    "\n",
    "\n",
    "print(\"*** Welcome to my  Virtual Garden:) ***\")\n",
    "\n",
    "gardener_name = input(\"What is the gardener name \")\n",
    "\n",
    "print(f\"Welcome {gardener_name}!\\nType 'help' for valid command.\")\n",
    "\n",
    "gardener = Gardener(gardener_name)\n",
    "\n",
    "while True:\n",
    "    gardener_action = input(\"What do you want to do? \")\n",
    "    gardener_action = gardener_action.lower()\n",
    "    if gardener_action in valid_commands:\n",
    "        if gardener_action == \"help\":\n",
    "            print(\"***Available Commands***\")\n",
    "            for command in valid_commands:\n",
    "                print(command)\n",
    "        elif gardener_action == \"seed\":\n",
    "            gardener.get_seed()\n",
    "        elif gardener_action == \"plant\":\n",
    "            gardener.plant()\n",
    "        elif gardener_action == \"tend\":\n",
    "            gardener.tend()\n",
    "        elif gardener_action == \"harvest\":\n",
    "            gardener.harvest()\n",
    "        elif gardener_action == \"quit\":\n",
    "            print(\"Thank you for visiting my virtual garden, keep gardening, Good Bye!\")\n",
    "            break\n",
    "    else:\n",
    "        print(\"Invalid Command\")\n",
    "            \n",
    "\n"
   ]
  },
  {
   "cell_type": "code",
   "execution_count": null,
   "id": "8a96f56a-a5a0-4fc1-9576-28ec0bd961e3",
   "metadata": {},
   "outputs": [],
   "source": []
  },
  {
   "cell_type": "code",
   "execution_count": null,
   "id": "55121307-a4a7-4701-8304-fe060bfa8717",
   "metadata": {},
   "outputs": [],
   "source": []
  },
  {
   "cell_type": "code",
   "execution_count": null,
   "id": "e2e16efe-706b-40b9-bc41-5c76292dade2",
   "metadata": {},
   "outputs": [],
   "source": []
  },
  {
   "cell_type": "code",
   "execution_count": null,
   "id": "6a6f3c61-aa4a-43f1-8f90-01f00a443315",
   "metadata": {},
   "outputs": [],
   "source": []
  },
  {
   "cell_type": "code",
   "execution_count": null,
   "id": "d2c9907b-658d-42a7-b75f-a4c895de8ee2",
   "metadata": {},
   "outputs": [],
   "source": []
  },
  {
   "cell_type": "code",
   "execution_count": null,
   "id": "1e2a09cc-4fe3-4c4d-a3e6-bc6d338f79f9",
   "metadata": {},
   "outputs": [],
   "source": []
  },
  {
   "cell_type": "code",
   "execution_count": null,
   "id": "b69e9ddb-7a1d-45bf-95c2-7d97fe20941a",
   "metadata": {},
   "outputs": [],
   "source": []
  },
  {
   "cell_type": "raw",
   "id": "08f59922-66ef-4cca-9663-680252bbcb08",
   "metadata": {},
   "source": []
  },
  {
   "cell_type": "code",
   "execution_count": 57,
   "id": "09f0b618-82b3-470b-b71d-e61b50ea0f17",
   "metadata": {},
   "outputs": [
    {
     "name": "stdout",
     "output_type": "stream",
     "text": [
      "*** Welcome to the Virtual Garden! ***\n"
     ]
    },
    {
     "name": "stdin",
     "output_type": "stream",
     "text": [
      "What is the gardener's name?  aun\n"
     ]
    },
    {
     "name": "stdout",
     "output_type": "stream",
     "text": [
      "Welcome aun!\n",
      "Type 'help' for valid commands.\n"
     ]
    },
    {
     "name": "stdin",
     "output_type": "stream",
     "text": [
      "What do you want to do?  help\n"
     ]
    },
    {
     "name": "stdout",
     "output_type": "stream",
     "text": [
      "*** Available Commands ***\n",
      "help\n",
      "quit\n",
      "seed\n",
      "plant\n",
      "tend\n",
      "harvest\n"
     ]
    },
    {
     "name": "stdin",
     "output_type": "stream",
     "text": [
      "What do you want to do?  seed\n"
     ]
    },
    {
     "name": "stdout",
     "output_type": "stream",
     "text": [
      "CONGRATULATIONS! aun has found a tomato seed.\n"
     ]
    },
    {
     "name": "stdin",
     "output_type": "stream",
     "text": [
      "What do you want to do?  seed\n"
     ]
    },
    {
     "name": "stdout",
     "output_type": "stream",
     "text": [
      "CONGRATULATIONS! aun has found a carrot seed.\n"
     ]
    },
    {
     "name": "stdin",
     "output_type": "stream",
     "text": [
      "What do you want to do?  seed\n"
     ]
    },
    {
     "name": "stdout",
     "output_type": "stream",
     "text": [
      "CONGRATULATIONS! aun has found a potato seed.\n"
     ]
    },
    {
     "name": "stdin",
     "output_type": "stream",
     "text": [
      "What do you want to do?  seed\n"
     ]
    },
    {
     "name": "stdout",
     "output_type": "stream",
     "text": [
      "CONGRATULATIONS! aun has found a carrot seed.\n"
     ]
    },
    {
     "name": "stdin",
     "output_type": "stream",
     "text": [
      "What do you want to do?  plant\n"
     ]
    },
    {
     "name": "stdout",
     "output_type": "stream",
     "text": [
      "1. tomato\n",
      "2. carrot\n",
      "3. potato\n"
     ]
    },
    {
     "name": "stdin",
     "output_type": "stream",
     "text": [
      "Select an item:  1\n"
     ]
    },
    {
     "name": "stdout",
     "output_type": "stream",
     "text": [
      "GREAT! aun has planted a tomato plant!\n"
     ]
    },
    {
     "name": "stdin",
     "output_type": "stream",
     "text": [
      "What do you want to do?  plant\n"
     ]
    },
    {
     "name": "stdout",
     "output_type": "stream",
     "text": [
      "1. carrot\n",
      "2. potato\n"
     ]
    },
    {
     "name": "stdin",
     "output_type": "stream",
     "text": [
      "Select an item:  1\n"
     ]
    },
    {
     "name": "stdout",
     "output_type": "stream",
     "text": [
      "GREAT! aun has planted a carrot plant!\n"
     ]
    },
    {
     "name": "stdin",
     "output_type": "stream",
     "text": [
      "What do you want to do?  plant\n"
     ]
    },
    {
     "name": "stdout",
     "output_type": "stream",
     "text": [
      "1. carrot\n",
      "2. potato\n"
     ]
    },
    {
     "name": "stdin",
     "output_type": "stream",
     "text": [
      "Select an item:  1\n"
     ]
    },
    {
     "name": "stdout",
     "output_type": "stream",
     "text": [
      "GREAT! aun has planted a carrot plant!\n"
     ]
    },
    {
     "name": "stdin",
     "output_type": "stream",
     "text": [
      "What do you want to do?  plant\n"
     ]
    },
    {
     "name": "stdout",
     "output_type": "stream",
     "text": [
      "1. potato\n"
     ]
    },
    {
     "name": "stdin",
     "output_type": "stream",
     "text": [
      "Select an item:  1\n"
     ]
    },
    {
     "name": "stdout",
     "output_type": "stream",
     "text": [
      "GREAT! aun has planted a potato plant!\n"
     ]
    },
    {
     "name": "stdin",
     "output_type": "stream",
     "text": [
      "What do you want to do?  plant\n"
     ]
    },
    {
     "name": "stdout",
     "output_type": "stream",
     "text": [
      "OOPS! You have no seeds to plant.\n"
     ]
    },
    {
     "name": "stdin",
     "output_type": "stream",
     "text": [
      "What do you want to do?  tend\n"
     ]
    },
    {
     "name": "stdout",
     "output_type": "stream",
     "text": [
      "Tomato is now at the sprout stage!\n",
      "Carrot is now at the sprout stage!\n",
      "Carrot is now at the sprout stage!\n",
      "Potato is now at the sprout stage!\n"
     ]
    },
    {
     "name": "stdin",
     "output_type": "stream",
     "text": [
      "What do you want to do?  tend\n"
     ]
    },
    {
     "name": "stdout",
     "output_type": "stream",
     "text": [
      "Tomato is now at the mature stage!\n",
      "Carrot is now at the mature stage!\n",
      "Carrot is now at the mature stage!\n",
      "Potato is now at the mature stage!\n"
     ]
    },
    {
     "name": "stdin",
     "output_type": "stream",
     "text": [
      "What do you want to do?  tend\n"
     ]
    },
    {
     "name": "stdout",
     "output_type": "stream",
     "text": [
      "Tomato is now at the flower stage!\n",
      "Carrot is now at the harvest_ready stage!\n",
      "Carrot is now at the harvest_ready stage!\n",
      "Potato is now at the harvest_ready stage!\n"
     ]
    },
    {
     "name": "stdin",
     "output_type": "stream",
     "text": [
      "What do you want to do?  tend\n"
     ]
    },
    {
     "name": "stdout",
     "output_type": "stream",
     "text": [
      "Tomato is now at the fruit stage!\n",
      "CONGRATULATIONS! Carrot is ready to be harvested.\n",
      "CONGRATULATIONS! Carrot is ready to be harvested.\n",
      "CONGRATULATIONS! Potato is ready to be harvested.\n"
     ]
    },
    {
     "name": "stdin",
     "output_type": "stream",
     "text": [
      "What do you want to do?  tend\n"
     ]
    },
    {
     "name": "stdout",
     "output_type": "stream",
     "text": [
      "Tomato is now at the harvest_ready stage!\n",
      "CONGRATULATIONS! Carrot is ready to be harvested.\n",
      "CONGRATULATIONS! Carrot is ready to be harvested.\n",
      "CONGRATULATIONS! Potato is ready to be harvested.\n"
     ]
    },
    {
     "name": "stdin",
     "output_type": "stream",
     "text": [
      "What do you want to do?  tend\n"
     ]
    },
    {
     "name": "stdout",
     "output_type": "stream",
     "text": [
      "CONGRATULATIONS! Tomato is ready to be harvested.\n",
      "CONGRATULATIONS! Carrot is ready to be harvested.\n",
      "CONGRATULATIONS! Carrot is ready to be harvested.\n",
      "CONGRATULATIONS! Potato is ready to be harvested.\n"
     ]
    },
    {
     "name": "stdin",
     "output_type": "stream",
     "text": [
      "What do you want to do?  harvest\n"
     ]
    },
    {
     "name": "stdout",
     "output_type": "stream",
     "text": [
      "1. Tomato\n",
      "2. Carrot\n",
      "3. Carrot\n",
      "4. Potato\n"
     ]
    },
    {
     "name": "stdin",
     "output_type": "stream",
     "text": [
      "Select an item:  1\n"
     ]
    },
    {
     "name": "stdout",
     "output_type": "stream",
     "text": [
      "You have harvested Tomato and obtained 10 units!\n"
     ]
    },
    {
     "name": "stdin",
     "output_type": "stream",
     "text": [
      "What do you want to do?  harvest\n"
     ]
    },
    {
     "name": "stdout",
     "output_type": "stream",
     "text": [
      "1. Carrot\n",
      "2. Carrot\n",
      "3. Potato\n"
     ]
    },
    {
     "name": "stdin",
     "output_type": "stream",
     "text": [
      "Select an item:  1\n"
     ]
    },
    {
     "name": "stdout",
     "output_type": "stream",
     "text": [
      "You have harvested Carrot and obtained 5 units!\n"
     ]
    },
    {
     "name": "stdin",
     "output_type": "stream",
     "text": [
      "What do you want to do?  harvest\n"
     ]
    },
    {
     "name": "stdout",
     "output_type": "stream",
     "text": [
      "1. Carrot\n",
      "2. Potato\n"
     ]
    },
    {
     "name": "stdin",
     "output_type": "stream",
     "text": [
      "Select an item:  1\n"
     ]
    },
    {
     "name": "stdout",
     "output_type": "stream",
     "text": [
      "You have harvested Carrot and obtained 5 units!\n"
     ]
    },
    {
     "name": "stdin",
     "output_type": "stream",
     "text": [
      "What do you want to do?  harvest\n"
     ]
    },
    {
     "name": "stdout",
     "output_type": "stream",
     "text": [
      "1. Potato\n"
     ]
    },
    {
     "name": "stdin",
     "output_type": "stream",
     "text": [
      "Select an item:  1\n"
     ]
    },
    {
     "name": "stdout",
     "output_type": "stream",
     "text": [
      "You have harvested Potato and obtained 3 units!\n"
     ]
    },
    {
     "name": "stdin",
     "output_type": "stream",
     "text": [
      "What do you want to do?  harvest\n"
     ]
    },
    {
     "name": "stdout",
     "output_type": "stream",
     "text": [
      "OOPS! There are no plants to harvest.\n"
     ]
    },
    {
     "name": "stdin",
     "output_type": "stream",
     "text": [
      "What do you want to do?  quit\n"
     ]
    },
    {
     "name": "stdout",
     "output_type": "stream",
     "text": [
      "Thank you for visiting the virtual garden. Keep gardening! Goodbye!\n"
     ]
    }
   ],
   "source": [
    "class Plant:\n",
    "    def __init__(self, name, harvest_yield):\n",
    "        self.name = name\n",
    "        self.harvest_yield = harvest_yield\n",
    "        self.growth_stages = [\"seed\", \"sprout\", \"mature\", \"flower\", \"fruit\", \"harvest_ready\"]\n",
    "        self.current_stage = self.growth_stages[0]\n",
    "        self.harvestable = False\n",
    "        \n",
    "    def grow(self):\n",
    "        current_index = self.growth_stages.index(self.current_stage)\n",
    "        if current_index < (len(self.growth_stages) - 1):\n",
    "            self.current_stage = self.growth_stages[current_index + 1]\n",
    "            if self.current_stage == self.growth_stages[-1]:\n",
    "                self.harvestable = True\n",
    "        elif self.current_stage == self.growth_stages[-1]:\n",
    "            print(f\"{self.name} is already fully grown\")\n",
    "            \n",
    "    def harvest(self):\n",
    "        if self.harvestable:\n",
    "            self.harvestable = False\n",
    "            return self.harvest_yield\n",
    "        else:\n",
    "            return None\n",
    "\n",
    "class Tomato(Plant):\n",
    "    def __init__(self):\n",
    "        super().__init__(\"Tomato\", 10)\n",
    "        \n",
    "class Potato(Plant):\n",
    "    def __init__(self):\n",
    "        super().__init__(\"Potato\", 3)\n",
    "        self.growth_stages = [\"seed\", \"sprout\", \"mature\", \"harvest_ready\"]\n",
    "        \n",
    "class Carrot(Plant):\n",
    "    def __init__(self):\n",
    "        super().__init__(\"Carrot\", 5)\n",
    "        self.growth_stages = [\"seed\", \"sprout\", \"mature\", \"harvest_ready\"]\n",
    "\n",
    "import random\n",
    "\n",
    "seeds = [\"tomato\", \"potato\", \"carrot\"]\n",
    "\n",
    "def select_item(items): \n",
    "    item_list = items if isinstance(items, list) else list(items.keys())\n",
    "    for i, item in enumerate(item_list):\n",
    "        item_name = item if isinstance(item, str) else item.name\n",
    "        print(f\"{i+1}. {item_name}\")\n",
    "    while True:\n",
    "        try:\n",
    "            user_input = int(input(\"Select an item: \"))\n",
    "            if 0 < user_input <= len(item_list):\n",
    "                return item_list[user_input - 1]\n",
    "            else:\n",
    "                print(\"Invalid Input\")\n",
    "        except ValueError:\n",
    "            print(\"Invalid Input\")\n",
    "\n",
    "class Gardener:\n",
    "    plant_dict = {\"tomato\": Tomato, \"potato\": Potato, \"carrot\": Carrot}\n",
    "    \n",
    "    def __init__(self, name):\n",
    "        self.name = name\n",
    "        self.inventory = {}\n",
    "        self.planted_plants = []\n",
    "        \n",
    "    def get_seed(self):\n",
    "        seed = random.choice(seeds)\n",
    "        self.inventory[seed] = self.inventory.get(seed, 0) + 1\n",
    "        print(f\"CONGRATULATIONS! {self.name} has found a {seed} seed.\")\n",
    "        \n",
    "    def plant(self):\n",
    "        if not self.inventory:\n",
    "            print(\"OOPS! You have no seeds to plant.\")\n",
    "            return\n",
    "        selected_seed = select_item(self.inventory)\n",
    "        if self.inventory[selected_seed] > 0:\n",
    "            self.inventory[selected_seed] -= 1\n",
    "            if self.inventory[selected_seed] == 0:\n",
    "                del self.inventory[selected_seed]\n",
    "            new_plant = self.plant_dict[selected_seed]()\n",
    "            self.planted_plants.append(new_plant)\n",
    "            print(f\"GREAT! {self.name} has planted a {selected_seed} plant!\")\n",
    "        else:\n",
    "            print(f\"OOPS! {self.name} does not have any {selected_seed} seeds!\")\n",
    "            \n",
    "    def tend(self):\n",
    "        if not self.planted_plants:\n",
    "            print(\"OOPS! There are no plants to tend.\")\n",
    "            return\n",
    "        for plant in self.planted_plants:\n",
    "            if not plant.harvestable:\n",
    "                plant.grow()\n",
    "                print(f\"{plant.name} is now at the {plant.current_stage} stage!\")\n",
    "            else:\n",
    "                print(f\"CONGRATULATIONS! {plant.name} is ready to be harvested.\")\n",
    "                \n",
    "    def harvest(self):\n",
    "        if not self.planted_plants:\n",
    "            print(\"OOPS! There are no plants to harvest.\")\n",
    "            return\n",
    "        selected_plant = select_item(self.planted_plants)\n",
    "        if selected_plant.harvestable:\n",
    "            yield_amount = selected_plant.harvest()\n",
    "            self.inventory[selected_plant.name] = self.inventory.get(selected_plant.name, 0) + yield_amount\n",
    "            self.planted_plants.remove(selected_plant)\n",
    "            print(f\"You have harvested {selected_plant.name} and obtained {yield_amount} units!\")\n",
    "        else:\n",
    "            print(f\"OOPS! {selected_plant.name} is not ready for harvest!\")\n",
    "\n",
    "valid_commands = [\"help\", \"quit\", \"seed\", \"plant\", \"tend\", \"harvest\"]\n",
    "\n",
    "print(\"*** Welcome to the Virtual Garden! ***\")\n",
    "\n",
    "gardener_name = input(\"What is the gardener's name? \")\n",
    "\n",
    "print(f\"Welcome {gardener_name}!\\nType 'help' for valid commands.\")\n",
    "\n",
    "gardener = Gardener(gardener_name)\n",
    "\n",
    "while True:\n",
    "    gardener_action = input(\"What do you want to do? \").lower()\n",
    "    if gardener_action in valid_commands:\n",
    "        if gardener_action == \"help\":\n",
    "            print(\"*** Available Commands ***\")\n",
    "            for command in valid_commands:\n",
    "                print(command)\n",
    "        elif gardener_action == \"seed\":\n",
    "            gardener.get_seed()\n",
    "        elif gardener_action == \"plant\":\n",
    "            gardener.plant()\n",
    "        elif gardener_action == \"tend\":\n",
    "            gardener.tend()\n",
    "        elif gardener_action == \"harvest\":\n",
    "            gardener.harvest()\n",
    "        elif gardener_action == \"quit\":\n",
    "            print(\"Thank you for visiting the virtual garden. Keep gardening! Goodbye!\")\n",
    "            break\n",
    "    else:\n",
    "        print(\"Invalid Command\")\n"
   ]
  },
  {
   "cell_type": "code",
   "execution_count": null,
   "id": "5f221090-e222-43da-b303-c59a898ce6e5",
   "metadata": {},
   "outputs": [],
   "source": []
  }
 ],
 "metadata": {
  "kernelspec": {
   "display_name": "Python 3 (ipykernel)",
   "language": "python",
   "name": "python3"
  },
  "language_info": {
   "codemirror_mode": {
    "name": "ipython",
    "version": 3
   },
   "file_extension": ".py",
   "mimetype": "text/x-python",
   "name": "python",
   "nbconvert_exporter": "python",
   "pygments_lexer": "ipython3",
   "version": "3.11.7"
  }
 },
 "nbformat": 4,
 "nbformat_minor": 5
}
